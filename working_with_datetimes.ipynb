{
 "cells": [
  {
   "cell_type": "code",
   "execution_count": 9,
   "id": "serious-colombia",
   "metadata": {},
   "outputs": [],
   "source": [
    "# !pip3 install pandas\n",
    "# !pip3 install pytz\n",
    "import pandas as pd\n",
    "import pytz  # we just need this for assigning the timezones later"
   ]
  },
  {
   "cell_type": "markdown",
   "id": "million-clarity",
   "metadata": {},
   "source": [
    "In this blog post I will be summarising some of the more useful datetime functions in pandas.\n",
    "\n",
    "In my current job, I often find myself dealing with time series datasets which require various datetime transformations. Initially I found myself spending a lot of time jumping around the [datetime](https://docs.python.org/3/library/datetime.html) and [pandas](https://pandas.pydata.org/docs/user_guide/index.html) documentation trying to find out how to perform some of these transformations which took up a lot of time. With that in mind, this blog post aims to provide code which you can lift into your own scripts or notebooks when working with datetimes in pandas.\n",
    "\n",
    "This post will be split into two sections. In section 1, I will simply summarise some of the functions I find myself using most often with a simple sample dataset I created. The code in this section can act as a quick copy \\& paste for you if you are just looking to find out how to perform a particular datetime transformation.\n",
    "\n",
    "In the section 2, I will show how the code snippets from section 1 can be pulled together and used in a real world example on the [Emergency - 911 Calls dataset](https://www.kaggle.com/mchirico/montcoalert).\n",
    "\n",
    "Before we get stuck into things, it's worth pointing out that really most important thing to remember when working with datetimes in pandas is that using `.dt` opens up access to most of the datetime functions in python (and even some extra ones). This will become clearer as we work through the examples below."
   ]
  },
  {
   "cell_type": "markdown",
   "id": "worth-runner",
   "metadata": {},
   "source": [
    "# Useful snippets "
   ]
  },
  {
   "cell_type": "markdown",
   "id": "nearby-prayer",
   "metadata": {},
   "source": [
    "## The dataset \n",
    "\n",
    "The dataset I will use in this section will be a simple dataset I created which tracks the time between users logging into a website and them purchasing something on the site.\n",
    "\n",
    "In this dataset, `session_start_date_time` tacks when the user logged into the site, `sale_date_time` tracks when the time the user purchased something on the website, and `sale_value` denotes the value of the sale (for this example the currency doesn't matter)."
   ]
  },
  {
   "cell_type": "code",
   "execution_count": 35,
   "id": "intelligent-cardiff",
   "metadata": {},
   "outputs": [
    {
     "data": {
      "text/html": [
       "<div>\n",
       "<style scoped>\n",
       "    .dataframe tbody tr th:only-of-type {\n",
       "        vertical-align: middle;\n",
       "    }\n",
       "\n",
       "    .dataframe tbody tr th {\n",
       "        vertical-align: top;\n",
       "    }\n",
       "\n",
       "    .dataframe thead th {\n",
       "        text-align: right;\n",
       "    }\n",
       "</style>\n",
       "<table border=\"1\" class=\"dataframe\">\n",
       "  <thead>\n",
       "    <tr style=\"text-align: right;\">\n",
       "      <th></th>\n",
       "      <th>session_start_date_time</th>\n",
       "      <th>sale_date_time</th>\n",
       "      <th>sale_value</th>\n",
       "    </tr>\n",
       "  </thead>\n",
       "  <tbody>\n",
       "    <tr>\n",
       "      <th>0</th>\n",
       "      <td>2019-01-01T04:44:00</td>\n",
       "      <td>2019-01-01T05:17:00</td>\n",
       "      <td>37.166667</td>\n",
       "    </tr>\n",
       "    <tr>\n",
       "      <th>1</th>\n",
       "      <td>2019-01-01T05:12:00</td>\n",
       "      <td>2019-01-01T05:33:00</td>\n",
       "      <td>37.766667</td>\n",
       "    </tr>\n",
       "    <tr>\n",
       "      <th>2</th>\n",
       "      <td>2019-01-01T05:23:00</td>\n",
       "      <td>2019-01-01T05:42:00</td>\n",
       "      <td>33.533333</td>\n",
       "    </tr>\n",
       "    <tr>\n",
       "      <th>3</th>\n",
       "      <td>2019-01-01T05:35:00</td>\n",
       "      <td>2019-01-01T05:44:00</td>\n",
       "      <td>43.000000</td>\n",
       "    </tr>\n",
       "    <tr>\n",
       "      <th>4</th>\n",
       "      <td>2019-01-01T05:23:00</td>\n",
       "      <td>2019-01-01T05:54:00</td>\n",
       "      <td>26.233333</td>\n",
       "    </tr>\n",
       "  </tbody>\n",
       "</table>\n",
       "</div>"
      ],
      "text/plain": [
       "  session_start_date_time       sale_date_time  sale_value\n",
       "0     2019-01-01T04:44:00  2019-01-01T05:17:00   37.166667\n",
       "1     2019-01-01T05:12:00  2019-01-01T05:33:00   37.766667\n",
       "2     2019-01-01T05:23:00  2019-01-01T05:42:00   33.533333\n",
       "3     2019-01-01T05:35:00  2019-01-01T05:44:00   43.000000\n",
       "4     2019-01-01T05:23:00  2019-01-01T05:54:00   26.233333"
      ]
     },
     "execution_count": 35,
     "metadata": {},
     "output_type": "execute_result"
    }
   ],
   "source": [
    "import pandas as pd\n",
    "import pytz  # we just need this for assigning the timezones later\n",
    "\n",
    "time_data = pd.read_csv(\"sample_data.csv\")\n",
    "time_data.head()"
   ]
  },
  {
   "cell_type": "markdown",
   "id": "falling-refund",
   "metadata": {},
   "source": [
    "## Convert timestamps to datetimes\n",
    "\n",
    "Before we can get started with datetime transformations, we must first convert our timestamp columns to datetime objects. To convert timestamps into a datetime object we can simply use the `pd.to_datetime(<YOUR_COLUMN>)` function.\n",
    "\n",
    "It's worth noting that this step is very important when dealing with timestamps in pandas as without converting them to datetimes, all the nice datetime functionality within pandas will not be available."
   ]
  },
  {
   "cell_type": "code",
   "execution_count": 36,
   "id": "hundred-scale",
   "metadata": {},
   "outputs": [
    {
     "data": {
      "text/html": [
       "<div>\n",
       "<style scoped>\n",
       "    .dataframe tbody tr th:only-of-type {\n",
       "        vertical-align: middle;\n",
       "    }\n",
       "\n",
       "    .dataframe tbody tr th {\n",
       "        vertical-align: top;\n",
       "    }\n",
       "\n",
       "    .dataframe thead th {\n",
       "        text-align: right;\n",
       "    }\n",
       "</style>\n",
       "<table border=\"1\" class=\"dataframe\">\n",
       "  <thead>\n",
       "    <tr style=\"text-align: right;\">\n",
       "      <th></th>\n",
       "      <th>session_start_date_time</th>\n",
       "      <th>sale_date_time</th>\n",
       "      <th>sale_value</th>\n",
       "    </tr>\n",
       "  </thead>\n",
       "  <tbody>\n",
       "    <tr>\n",
       "      <th>0</th>\n",
       "      <td>2019-01-01 04:44:00</td>\n",
       "      <td>2019-01-01 05:17:00</td>\n",
       "      <td>37.166667</td>\n",
       "    </tr>\n",
       "    <tr>\n",
       "      <th>1</th>\n",
       "      <td>2019-01-01 05:12:00</td>\n",
       "      <td>2019-01-01 05:33:00</td>\n",
       "      <td>37.766667</td>\n",
       "    </tr>\n",
       "    <tr>\n",
       "      <th>2</th>\n",
       "      <td>2019-01-01 05:23:00</td>\n",
       "      <td>2019-01-01 05:42:00</td>\n",
       "      <td>33.533333</td>\n",
       "    </tr>\n",
       "    <tr>\n",
       "      <th>3</th>\n",
       "      <td>2019-01-01 05:35:00</td>\n",
       "      <td>2019-01-01 05:44:00</td>\n",
       "      <td>43.000000</td>\n",
       "    </tr>\n",
       "    <tr>\n",
       "      <th>4</th>\n",
       "      <td>2019-01-01 05:23:00</td>\n",
       "      <td>2019-01-01 05:54:00</td>\n",
       "      <td>26.233333</td>\n",
       "    </tr>\n",
       "  </tbody>\n",
       "</table>\n",
       "</div>"
      ],
      "text/plain": [
       "  session_start_date_time      sale_date_time  sale_value\n",
       "0     2019-01-01 04:44:00 2019-01-01 05:17:00   37.166667\n",
       "1     2019-01-01 05:12:00 2019-01-01 05:33:00   37.766667\n",
       "2     2019-01-01 05:23:00 2019-01-01 05:42:00   33.533333\n",
       "3     2019-01-01 05:35:00 2019-01-01 05:44:00   43.000000\n",
       "4     2019-01-01 05:23:00 2019-01-01 05:54:00   26.233333"
      ]
     },
     "execution_count": 36,
     "metadata": {},
     "output_type": "execute_result"
    }
   ],
   "source": [
    "time_data[\"session_start_date_time\"] = pd.to_datetime(time_data[\"session_start_date_time\"])\n",
    "time_data[\"sale_date_time\"] = pd.to_datetime(time_data[\"sale_date_time\"])\n",
    "time_data.head()"
   ]
  },
  {
   "cell_type": "markdown",
   "id": "mexican-latin",
   "metadata": {},
   "source": [
    "## Subtracting datetimes \n",
    "\n",
    "Once we have converted our timestamps to datetimes, we can very easily determine the `time_to_sale` for each session by subtracting `session_start_date_time` from the `sale_date_time`.\n",
    "\n",
    "This operation creates a column of [timedeltas](https://docs.python.org/3/library/datetime.html#datetime.timedelta) which denote the difference in terms of days, hours, minutes, and seconds between the two datetimes."
   ]
  },
  {
   "cell_type": "code",
   "execution_count": 42,
   "id": "prostate-findings",
   "metadata": {},
   "outputs": [
    {
     "data": {
      "text/html": [
       "<div>\n",
       "<style scoped>\n",
       "    .dataframe tbody tr th:only-of-type {\n",
       "        vertical-align: middle;\n",
       "    }\n",
       "\n",
       "    .dataframe tbody tr th {\n",
       "        vertical-align: top;\n",
       "    }\n",
       "\n",
       "    .dataframe thead th {\n",
       "        text-align: right;\n",
       "    }\n",
       "</style>\n",
       "<table border=\"1\" class=\"dataframe\">\n",
       "  <thead>\n",
       "    <tr style=\"text-align: right;\">\n",
       "      <th></th>\n",
       "      <th>session_start_date_time</th>\n",
       "      <th>sale_date_time</th>\n",
       "      <th>sale_value</th>\n",
       "      <th>time_to_sale</th>\n",
       "    </tr>\n",
       "  </thead>\n",
       "  <tbody>\n",
       "    <tr>\n",
       "      <th>0</th>\n",
       "      <td>2019-01-01 04:44:00</td>\n",
       "      <td>2019-01-01 05:17:00</td>\n",
       "      <td>37.166667</td>\n",
       "      <td>0 days 00:33:00</td>\n",
       "    </tr>\n",
       "    <tr>\n",
       "      <th>1</th>\n",
       "      <td>2019-01-01 05:12:00</td>\n",
       "      <td>2019-01-01 05:33:00</td>\n",
       "      <td>37.766667</td>\n",
       "      <td>0 days 00:21:00</td>\n",
       "    </tr>\n",
       "    <tr>\n",
       "      <th>2</th>\n",
       "      <td>2019-01-01 05:23:00</td>\n",
       "      <td>2019-01-01 05:42:00</td>\n",
       "      <td>33.533333</td>\n",
       "      <td>0 days 00:19:00</td>\n",
       "    </tr>\n",
       "    <tr>\n",
       "      <th>3</th>\n",
       "      <td>2019-01-01 05:35:00</td>\n",
       "      <td>2019-01-01 05:44:00</td>\n",
       "      <td>43.000000</td>\n",
       "      <td>0 days 00:09:00</td>\n",
       "    </tr>\n",
       "    <tr>\n",
       "      <th>4</th>\n",
       "      <td>2019-01-01 05:23:00</td>\n",
       "      <td>2019-01-01 05:54:00</td>\n",
       "      <td>26.233333</td>\n",
       "      <td>0 days 00:31:00</td>\n",
       "    </tr>\n",
       "  </tbody>\n",
       "</table>\n",
       "</div>"
      ],
      "text/plain": [
       "  session_start_date_time      sale_date_time  sale_value    time_to_sale\n",
       "0     2019-01-01 04:44:00 2019-01-01 05:17:00   37.166667 0 days 00:33:00\n",
       "1     2019-01-01 05:12:00 2019-01-01 05:33:00   37.766667 0 days 00:21:00\n",
       "2     2019-01-01 05:23:00 2019-01-01 05:42:00   33.533333 0 days 00:19:00\n",
       "3     2019-01-01 05:35:00 2019-01-01 05:44:00   43.000000 0 days 00:09:00\n",
       "4     2019-01-01 05:23:00 2019-01-01 05:54:00   26.233333 0 days 00:31:00"
      ]
     },
     "execution_count": 42,
     "metadata": {},
     "output_type": "execute_result"
    }
   ],
   "source": [
    "time_data[\"time_to_sale\"] = time_data[\"sale_date_time\"] - time_data[\"session_start_date_time\"]\n",
    "time_data.head()"
   ]
  },
  {
   "cell_type": "code",
   "execution_count": 5,
   "id": "destroyed-masters",
   "metadata": {},
   "outputs": [],
   "source": [
    "time_data = time_data.drop(\"time_to_sale\", axis=1)"
   ]
  },
  {
   "cell_type": "markdown",
   "id": "broad-auditor",
   "metadata": {},
   "source": [
    "## Timezones "
   ]
  },
  {
   "cell_type": "markdown",
   "id": "blocked-newton",
   "metadata": {},
   "source": [
    "### Assigning a timezone \n",
    "\n",
    "Oftentimes I find myself producing outputs for people in different parts of the world. As a result of this it is important to be able to present any time related data outputs (such as visualisations) in the end users timezone, especially when they don't come from a technical background.\n",
    "\n",
    "The first step in being able to perform any timezone conversions is to localise the data to the timezone it came from. Now typically if you are storing data in a database, it will be in UTC ISO format, so the `pd.to_dateime()` function will infer the timezone from it when converting to a datetime. However, in our case we don't have any timezone information for these timestamps, so we can go ahead and localise it to UTC using the `tz_localize()` function. \n",
    "\n",
    "This function will accept a timezone object (in this case we pass a [pytz](https://pypi.org/project/pytz/) timezone) and will localise the column to that timezone."
   ]
  },
  {
   "cell_type": "code",
   "execution_count": 6,
   "id": "legal-karen",
   "metadata": {},
   "outputs": [
    {
     "data": {
      "text/html": [
       "<div>\n",
       "<style scoped>\n",
       "    .dataframe tbody tr th:only-of-type {\n",
       "        vertical-align: middle;\n",
       "    }\n",
       "\n",
       "    .dataframe tbody tr th {\n",
       "        vertical-align: top;\n",
       "    }\n",
       "\n",
       "    .dataframe thead th {\n",
       "        text-align: right;\n",
       "    }\n",
       "</style>\n",
       "<table border=\"1\" class=\"dataframe\">\n",
       "  <thead>\n",
       "    <tr style=\"text-align: right;\">\n",
       "      <th></th>\n",
       "      <th>session_start_date_time</th>\n",
       "      <th>sale_date_time</th>\n",
       "      <th>sale_value</th>\n",
       "    </tr>\n",
       "  </thead>\n",
       "  <tbody>\n",
       "    <tr>\n",
       "      <th>0</th>\n",
       "      <td>2019-01-01 04:44:00+00:00</td>\n",
       "      <td>2019-01-01 05:17:00+00:00</td>\n",
       "      <td>37.166667</td>\n",
       "    </tr>\n",
       "    <tr>\n",
       "      <th>1</th>\n",
       "      <td>2019-01-01 05:12:00+00:00</td>\n",
       "      <td>2019-01-01 05:33:00+00:00</td>\n",
       "      <td>37.766667</td>\n",
       "    </tr>\n",
       "    <tr>\n",
       "      <th>2</th>\n",
       "      <td>2019-01-01 05:23:00+00:00</td>\n",
       "      <td>2019-01-01 05:42:00+00:00</td>\n",
       "      <td>33.533333</td>\n",
       "    </tr>\n",
       "    <tr>\n",
       "      <th>3</th>\n",
       "      <td>2019-01-01 05:35:00+00:00</td>\n",
       "      <td>2019-01-01 05:44:00+00:00</td>\n",
       "      <td>43.000000</td>\n",
       "    </tr>\n",
       "    <tr>\n",
       "      <th>4</th>\n",
       "      <td>2019-01-01 05:23:00+00:00</td>\n",
       "      <td>2019-01-01 05:54:00+00:00</td>\n",
       "      <td>26.233333</td>\n",
       "    </tr>\n",
       "  </tbody>\n",
       "</table>\n",
       "</div>"
      ],
      "text/plain": [
       "    session_start_date_time            sale_date_time  sale_value\n",
       "0 2019-01-01 04:44:00+00:00 2019-01-01 05:17:00+00:00   37.166667\n",
       "1 2019-01-01 05:12:00+00:00 2019-01-01 05:33:00+00:00   37.766667\n",
       "2 2019-01-01 05:23:00+00:00 2019-01-01 05:42:00+00:00   33.533333\n",
       "3 2019-01-01 05:35:00+00:00 2019-01-01 05:44:00+00:00   43.000000\n",
       "4 2019-01-01 05:23:00+00:00 2019-01-01 05:54:00+00:00   26.233333"
      ]
     },
     "execution_count": 6,
     "metadata": {},
     "output_type": "execute_result"
    }
   ],
   "source": [
    "time_data[\"session_start_date_time\"] = time_data[\"session_start_date_time\"].dt.tz_localize(pytz.utc)\n",
    "time_data[\"sale_date_time\"] = time_data[\"sale_date_time\"].dt.tz_localize(pytz.utc)\n",
    "time_data.head()"
   ]
  },
  {
   "cell_type": "markdown",
   "id": "minus-estate",
   "metadata": {},
   "source": [
    "### Converting to a different timezone \n",
    "\n",
    "Once we have our timestamps localised to UTC (or any timezone), we can easily switch between timezones using `tz_convert()`. Once again, this function will accept a timezone object, and will convert our column to to that timezone.\n",
    "\n",
    "In the below example we convert the `session_start_date_time` to Berlin local time.\n",
    "\n",
    "For your reference, a list of pytz supported timezones can be found by running `pytz.all_timezones` within a python shell or jupyter notebook."
   ]
  },
  {
   "cell_type": "code",
   "execution_count": 7,
   "id": "immediate-newark",
   "metadata": {},
   "outputs": [
    {
     "data": {
      "text/plain": [
       "0   2019-01-01 05:44:00+01:00\n",
       "1   2019-01-01 06:12:00+01:00\n",
       "2   2019-01-01 06:23:00+01:00\n",
       "3   2019-01-01 06:35:00+01:00\n",
       "4   2019-01-01 06:23:00+01:00\n",
       "Name: session_start_date_time, dtype: datetime64[ns, Europe/Berlin]"
      ]
     },
     "execution_count": 7,
     "metadata": {},
     "output_type": "execute_result"
    }
   ],
   "source": [
    "time_data[\"session_start_date_time\"].dt.tz_convert(pytz.timezone(\"Europe/Berlin\")).head()"
   ]
  },
  {
   "cell_type": "markdown",
   "id": "respective-provider",
   "metadata": {},
   "source": [
    "### Removing timezone info \n",
    "\n",
    "If for some reason you want to remove the timezone information from a column, if can easily be done by once again just using `tz_localize`, except instead of passing a timezone, just pass `None`."
   ]
  },
  {
   "cell_type": "markdown",
   "id": "grateful-bonus",
   "metadata": {},
   "source": [
    "## Convert a datetime to ISO format\n",
    "\n",
    "If you're working on a data transformation workflow involving timestamps that will end up being ingested into a database, more often than not you will need to convert your timestamps into [ISO format](https://en.wikipedia.org/wiki/ISO_8601).\n",
    "\n",
    "Although this is one of the only datetime transformations we cannot do in pandas by accesing the functions within `.dt`, we can convert datetimes to ISO format using an `apply` on the column and accessing the `isoformat` method on each datetime object, as demonstrated below."
   ]
  },
  {
   "cell_type": "code",
   "execution_count": 9,
   "id": "changing-ferry",
   "metadata": {},
   "outputs": [
    {
     "data": {
      "text/plain": [
       "0    2019-01-01T04:44:00+00:00\n",
       "1    2019-01-01T05:12:00+00:00\n",
       "2    2019-01-01T05:23:00+00:00\n",
       "3    2019-01-01T05:35:00+00:00\n",
       "4    2019-01-01T05:23:00+00:00\n",
       "Name: session_start_date_time, dtype: object"
      ]
     },
     "execution_count": 9,
     "metadata": {},
     "output_type": "execute_result"
    }
   ],
   "source": [
    "time_data[\"session_start_date_time\"].apply(lambda x: x.isoformat()).head()"
   ]
  },
  {
   "cell_type": "markdown",
   "id": "played-workshop",
   "metadata": {},
   "source": [
    "## Adding a timedelta or offset to a datetime\n",
    "\n",
    "Sometimes we might want to add an offset to a datetime in pandas (e.g. create a `time_interval_end` column by adding 5 minnutes to a `time_interval_start`). To do this, we simply add a timedelta to the a datetime column using the `pd.to_timedlta()` function.\n",
    "\n",
    "In the below example, we add 15 minutes to the `session_start_date_time` using this function. More information on the inputs to this function can be found [here](https://pandas.pydata.org/docs/reference/api/pandas.to_timedelta.html)"
   ]
  },
  {
   "cell_type": "code",
   "execution_count": 10,
   "id": "hourly-favorite",
   "metadata": {},
   "outputs": [
    {
     "data": {
      "text/html": [
       "<div>\n",
       "<style scoped>\n",
       "    .dataframe tbody tr th:only-of-type {\n",
       "        vertical-align: middle;\n",
       "    }\n",
       "\n",
       "    .dataframe tbody tr th {\n",
       "        vertical-align: top;\n",
       "    }\n",
       "\n",
       "    .dataframe thead th {\n",
       "        text-align: right;\n",
       "    }\n",
       "</style>\n",
       "<table border=\"1\" class=\"dataframe\">\n",
       "  <thead>\n",
       "    <tr style=\"text-align: right;\">\n",
       "      <th></th>\n",
       "      <th>session_start_date_time</th>\n",
       "      <th>session_start_plus_fifteen</th>\n",
       "    </tr>\n",
       "  </thead>\n",
       "  <tbody>\n",
       "    <tr>\n",
       "      <th>0</th>\n",
       "      <td>2019-01-01 04:44:00+00:00</td>\n",
       "      <td>2019-01-01 04:59:00+00:00</td>\n",
       "    </tr>\n",
       "    <tr>\n",
       "      <th>1</th>\n",
       "      <td>2019-01-01 05:12:00+00:00</td>\n",
       "      <td>2019-01-01 05:27:00+00:00</td>\n",
       "    </tr>\n",
       "    <tr>\n",
       "      <th>2</th>\n",
       "      <td>2019-01-01 05:23:00+00:00</td>\n",
       "      <td>2019-01-01 05:38:00+00:00</td>\n",
       "    </tr>\n",
       "    <tr>\n",
       "      <th>3</th>\n",
       "      <td>2019-01-01 05:35:00+00:00</td>\n",
       "      <td>2019-01-01 05:50:00+00:00</td>\n",
       "    </tr>\n",
       "    <tr>\n",
       "      <th>4</th>\n",
       "      <td>2019-01-01 05:23:00+00:00</td>\n",
       "      <td>2019-01-01 05:38:00+00:00</td>\n",
       "    </tr>\n",
       "  </tbody>\n",
       "</table>\n",
       "</div>"
      ],
      "text/plain": [
       "    session_start_date_time session_start_plus_fifteen\n",
       "0 2019-01-01 04:44:00+00:00  2019-01-01 04:59:00+00:00\n",
       "1 2019-01-01 05:12:00+00:00  2019-01-01 05:27:00+00:00\n",
       "2 2019-01-01 05:23:00+00:00  2019-01-01 05:38:00+00:00\n",
       "3 2019-01-01 05:35:00+00:00  2019-01-01 05:50:00+00:00\n",
       "4 2019-01-01 05:23:00+00:00  2019-01-01 05:38:00+00:00"
      ]
     },
     "execution_count": 10,
     "metadata": {},
     "output_type": "execute_result"
    }
   ],
   "source": [
    "time_data[\"session_start_plus_fifteen\"] = time_data[\"session_start_date_time\"] + pd.to_timedelta(15,'m')\n",
    "time_data[[\"session_start_date_time\", \"session_start_plus_fifteen\"]].head()"
   ]
  },
  {
   "cell_type": "code",
   "execution_count": 11,
   "id": "fuzzy-saudi",
   "metadata": {},
   "outputs": [],
   "source": [
    "time_data = time_data.drop(\"session_start_plus_fifteen\", axis=1)"
   ]
  },
  {
   "cell_type": "markdown",
   "id": "victorian-comparison",
   "metadata": {},
   "source": [
    "## Rounding datetimes \n",
    "\n",
    "Imagine a situation where you want to create a report or visualisation of number of sessions per hour, 15 minute, or 5 minute interval. The first step in generating this would be to round our timestamps up or down (depending on how you want to do it) to the nearest interval. We can do this in pandas using the `.dt.ceil()` and `.dt.floor()` methods.\n",
    "\n",
    "In the below examples, you will see how we can round the `session_start_date_time` up or down to the nearest 5 minute interval using the methods mentioned above. A summary on how to format the input to these functions to round to different time intervals can be found [here](https://pandas.pydata.org/docs/user_guide/timeseries.html#timeseries-offset-aliases).\n",
    "\n",
    "It's worth noting that this kind of rounding functionality is actually not available within the base datetime library and sometimes if you want to round a single datetime it can be handy to convert it to a series and apply this function before converting it back to a datetime."
   ]
  },
  {
   "cell_type": "code",
   "execution_count": 12,
   "id": "stylish-worcester",
   "metadata": {},
   "outputs": [
    {
     "data": {
      "text/html": [
       "<div>\n",
       "<style scoped>\n",
       "    .dataframe tbody tr th:only-of-type {\n",
       "        vertical-align: middle;\n",
       "    }\n",
       "\n",
       "    .dataframe tbody tr th {\n",
       "        vertical-align: top;\n",
       "    }\n",
       "\n",
       "    .dataframe thead th {\n",
       "        text-align: right;\n",
       "    }\n",
       "</style>\n",
       "<table border=\"1\" class=\"dataframe\">\n",
       "  <thead>\n",
       "    <tr style=\"text-align: right;\">\n",
       "      <th></th>\n",
       "      <th>session_start_date_time</th>\n",
       "      <th>session_start_rounded_ceiling</th>\n",
       "    </tr>\n",
       "  </thead>\n",
       "  <tbody>\n",
       "    <tr>\n",
       "      <th>0</th>\n",
       "      <td>2019-01-01 04:44:00+00:00</td>\n",
       "      <td>2019-01-01 04:45:00+00:00</td>\n",
       "    </tr>\n",
       "    <tr>\n",
       "      <th>1</th>\n",
       "      <td>2019-01-01 05:12:00+00:00</td>\n",
       "      <td>2019-01-01 05:15:00+00:00</td>\n",
       "    </tr>\n",
       "    <tr>\n",
       "      <th>2</th>\n",
       "      <td>2019-01-01 05:23:00+00:00</td>\n",
       "      <td>2019-01-01 05:25:00+00:00</td>\n",
       "    </tr>\n",
       "    <tr>\n",
       "      <th>3</th>\n",
       "      <td>2019-01-01 05:35:00+00:00</td>\n",
       "      <td>2019-01-01 05:35:00+00:00</td>\n",
       "    </tr>\n",
       "    <tr>\n",
       "      <th>4</th>\n",
       "      <td>2019-01-01 05:23:00+00:00</td>\n",
       "      <td>2019-01-01 05:25:00+00:00</td>\n",
       "    </tr>\n",
       "  </tbody>\n",
       "</table>\n",
       "</div>"
      ],
      "text/plain": [
       "    session_start_date_time session_start_rounded_ceiling\n",
       "0 2019-01-01 04:44:00+00:00     2019-01-01 04:45:00+00:00\n",
       "1 2019-01-01 05:12:00+00:00     2019-01-01 05:15:00+00:00\n",
       "2 2019-01-01 05:23:00+00:00     2019-01-01 05:25:00+00:00\n",
       "3 2019-01-01 05:35:00+00:00     2019-01-01 05:35:00+00:00\n",
       "4 2019-01-01 05:23:00+00:00     2019-01-01 05:25:00+00:00"
      ]
     },
     "execution_count": 12,
     "metadata": {},
     "output_type": "execute_result"
    }
   ],
   "source": [
    "time_data[\"session_start_rounded_ceiling\"] = time_data[\"session_start_date_time\"].dt.ceil(\"5min\")\n",
    "time_data[[\"session_start_date_time\", \"session_start_rounded_ceiling\"]].head()"
   ]
  },
  {
   "cell_type": "code",
   "execution_count": 13,
   "id": "incident-wright",
   "metadata": {},
   "outputs": [
    {
     "data": {
      "text/html": [
       "<div>\n",
       "<style scoped>\n",
       "    .dataframe tbody tr th:only-of-type {\n",
       "        vertical-align: middle;\n",
       "    }\n",
       "\n",
       "    .dataframe tbody tr th {\n",
       "        vertical-align: top;\n",
       "    }\n",
       "\n",
       "    .dataframe thead th {\n",
       "        text-align: right;\n",
       "    }\n",
       "</style>\n",
       "<table border=\"1\" class=\"dataframe\">\n",
       "  <thead>\n",
       "    <tr style=\"text-align: right;\">\n",
       "      <th></th>\n",
       "      <th>session_start_date_time</th>\n",
       "      <th>session_start_rounded_floor</th>\n",
       "    </tr>\n",
       "  </thead>\n",
       "  <tbody>\n",
       "    <tr>\n",
       "      <th>0</th>\n",
       "      <td>2019-01-01 04:44:00+00:00</td>\n",
       "      <td>2019-01-01 04:40:00+00:00</td>\n",
       "    </tr>\n",
       "    <tr>\n",
       "      <th>1</th>\n",
       "      <td>2019-01-01 05:12:00+00:00</td>\n",
       "      <td>2019-01-01 05:10:00+00:00</td>\n",
       "    </tr>\n",
       "    <tr>\n",
       "      <th>2</th>\n",
       "      <td>2019-01-01 05:23:00+00:00</td>\n",
       "      <td>2019-01-01 05:20:00+00:00</td>\n",
       "    </tr>\n",
       "    <tr>\n",
       "      <th>3</th>\n",
       "      <td>2019-01-01 05:35:00+00:00</td>\n",
       "      <td>2019-01-01 05:35:00+00:00</td>\n",
       "    </tr>\n",
       "    <tr>\n",
       "      <th>4</th>\n",
       "      <td>2019-01-01 05:23:00+00:00</td>\n",
       "      <td>2019-01-01 05:20:00+00:00</td>\n",
       "    </tr>\n",
       "  </tbody>\n",
       "</table>\n",
       "</div>"
      ],
      "text/plain": [
       "    session_start_date_time session_start_rounded_floor\n",
       "0 2019-01-01 04:44:00+00:00   2019-01-01 04:40:00+00:00\n",
       "1 2019-01-01 05:12:00+00:00   2019-01-01 05:10:00+00:00\n",
       "2 2019-01-01 05:23:00+00:00   2019-01-01 05:20:00+00:00\n",
       "3 2019-01-01 05:35:00+00:00   2019-01-01 05:35:00+00:00\n",
       "4 2019-01-01 05:23:00+00:00   2019-01-01 05:20:00+00:00"
      ]
     },
     "execution_count": 13,
     "metadata": {},
     "output_type": "execute_result"
    }
   ],
   "source": [
    "time_data[\"session_start_rounded_floor\"] = time_data[\"session_start_date_time\"].dt.floor(\"5min\")\n",
    "time_data[[\"session_start_date_time\", \"session_start_rounded_floor\"]].head()"
   ]
  },
  {
   "cell_type": "markdown",
   "id": "driven-recycling",
   "metadata": {},
   "source": [
    "## Generate a list of datetimes at a particular frequency \n",
    "\n",
    "Again, if you want to generate some aggregation of sessions per 5 minute (or hour, or 15 minute) interval, it is useful to first generate a set of all intervals which exist between the min and max times of your data. Failure to do this could mean that your aggregation would not represent intervals for which no sessions were started.\n",
    "\n",
    "Thankfully in pandas we can the the `pd.date_range()` function to generate a series of timestamps between two datetimes at a particular interval. \n",
    "\n",
    "In the below example, you will notice that we convert the output of this function to a dataframe. This is something I like to do as it makes it easier to join on the aggregated data to take account of these empty intervals, this will become more clear in the worked example in section 2."
   ]
  },
  {
   "cell_type": "code",
   "execution_count": 14,
   "id": "forward-correlation",
   "metadata": {},
   "outputs": [
    {
     "data": {
      "text/html": [
       "<div>\n",
       "<style scoped>\n",
       "    .dataframe tbody tr th:only-of-type {\n",
       "        vertical-align: middle;\n",
       "    }\n",
       "\n",
       "    .dataframe tbody tr th {\n",
       "        vertical-align: top;\n",
       "    }\n",
       "\n",
       "    .dataframe thead th {\n",
       "        text-align: right;\n",
       "    }\n",
       "</style>\n",
       "<table border=\"1\" class=\"dataframe\">\n",
       "  <thead>\n",
       "    <tr style=\"text-align: right;\">\n",
       "      <th></th>\n",
       "      <th>time_interval</th>\n",
       "    </tr>\n",
       "  </thead>\n",
       "  <tbody>\n",
       "    <tr>\n",
       "      <th>0</th>\n",
       "      <td>2019-01-01 04:40:00+00:00</td>\n",
       "    </tr>\n",
       "    <tr>\n",
       "      <th>1</th>\n",
       "      <td>2019-01-01 04:45:00+00:00</td>\n",
       "    </tr>\n",
       "    <tr>\n",
       "      <th>2</th>\n",
       "      <td>2019-01-01 04:50:00+00:00</td>\n",
       "    </tr>\n",
       "    <tr>\n",
       "      <th>3</th>\n",
       "      <td>2019-01-01 04:55:00+00:00</td>\n",
       "    </tr>\n",
       "    <tr>\n",
       "      <th>4</th>\n",
       "      <td>2019-01-01 05:00:00+00:00</td>\n",
       "    </tr>\n",
       "  </tbody>\n",
       "</table>\n",
       "</div>"
      ],
      "text/plain": [
       "              time_interval\n",
       "0 2019-01-01 04:40:00+00:00\n",
       "1 2019-01-01 04:45:00+00:00\n",
       "2 2019-01-01 04:50:00+00:00\n",
       "3 2019-01-01 04:55:00+00:00\n",
       "4 2019-01-01 05:00:00+00:00"
      ]
     },
     "execution_count": 14,
     "metadata": {},
     "output_type": "execute_result"
    }
   ],
   "source": [
    "intervals = pd.DataFrame(\n",
    "    pd.date_range(\n",
    "        start=time_data[\"session_start_rounded_floor\"].min(),\n",
    "        end=time_data[\"session_start_rounded_ceiling\"].max(),\n",
    "        freq=\"5min\"\n",
    "    ),\n",
    "    columns=[\"time_interval\"]\n",
    ")\n",
    "intervals.head()"
   ]
  },
  {
   "cell_type": "markdown",
   "id": "strong-meeting",
   "metadata": {},
   "source": [
    "## Group by date or week\n",
    "\n",
    "If we want to look at the data as a more summarised level (e.g. date or week), we don't have to use the `ceil()` or `floor()` functions. We can instead used the built in `date()` and `isocalendar().week()` functions to before using a `groupby` to aggregate the data by date or week number."
   ]
  },
  {
   "cell_type": "code",
   "execution_count": 15,
   "id": "bronze-australia",
   "metadata": {},
   "outputs": [
    {
     "data": {
      "text/html": [
       "<div>\n",
       "<style scoped>\n",
       "    .dataframe tbody tr th:only-of-type {\n",
       "        vertical-align: middle;\n",
       "    }\n",
       "\n",
       "    .dataframe tbody tr th {\n",
       "        vertical-align: top;\n",
       "    }\n",
       "\n",
       "    .dataframe thead th {\n",
       "        text-align: right;\n",
       "    }\n",
       "</style>\n",
       "<table border=\"1\" class=\"dataframe\">\n",
       "  <thead>\n",
       "    <tr style=\"text-align: right;\">\n",
       "      <th></th>\n",
       "      <th>session_start_date</th>\n",
       "      <th>session_start_date_time</th>\n",
       "    </tr>\n",
       "  </thead>\n",
       "  <tbody>\n",
       "    <tr>\n",
       "      <th>0</th>\n",
       "      <td>2019-01-01</td>\n",
       "      <td>838</td>\n",
       "    </tr>\n",
       "    <tr>\n",
       "      <th>1</th>\n",
       "      <td>2019-01-02</td>\n",
       "      <td>935</td>\n",
       "    </tr>\n",
       "    <tr>\n",
       "      <th>2</th>\n",
       "      <td>2019-01-03</td>\n",
       "      <td>905</td>\n",
       "    </tr>\n",
       "    <tr>\n",
       "      <th>3</th>\n",
       "      <td>2019-01-04</td>\n",
       "      <td>909</td>\n",
       "    </tr>\n",
       "    <tr>\n",
       "      <th>4</th>\n",
       "      <td>2019-01-05</td>\n",
       "      <td>717</td>\n",
       "    </tr>\n",
       "  </tbody>\n",
       "</table>\n",
       "</div>"
      ],
      "text/plain": [
       "  session_start_date  session_start_date_time\n",
       "0         2019-01-01                      838\n",
       "1         2019-01-02                      935\n",
       "2         2019-01-03                      905\n",
       "3         2019-01-04                      909\n",
       "4         2019-01-05                      717"
      ]
     },
     "execution_count": 15,
     "metadata": {},
     "output_type": "execute_result"
    }
   ],
   "source": [
    "time_data[\"session_start_date\"] = time_data[\"session_start_date_time\"].dt.date\n",
    "time_data.groupby(\"session_start_date\")[\"session_start_date_time\"].count().reset_index().head()\n"
   ]
  },
  {
   "cell_type": "code",
   "execution_count": 16,
   "id": "removable-namibia",
   "metadata": {},
   "outputs": [
    {
     "data": {
      "text/html": [
       "<div>\n",
       "<style scoped>\n",
       "    .dataframe tbody tr th:only-of-type {\n",
       "        vertical-align: middle;\n",
       "    }\n",
       "\n",
       "    .dataframe tbody tr th {\n",
       "        vertical-align: top;\n",
       "    }\n",
       "\n",
       "    .dataframe thead th {\n",
       "        text-align: right;\n",
       "    }\n",
       "</style>\n",
       "<table border=\"1\" class=\"dataframe\">\n",
       "  <thead>\n",
       "    <tr style=\"text-align: right;\">\n",
       "      <th></th>\n",
       "      <th>session_start_week</th>\n",
       "      <th>session_start_date_time</th>\n",
       "    </tr>\n",
       "  </thead>\n",
       "  <tbody>\n",
       "    <tr>\n",
       "      <th>0</th>\n",
       "      <td>1</td>\n",
       "      <td>6845</td>\n",
       "    </tr>\n",
       "    <tr>\n",
       "      <th>1</th>\n",
       "      <td>2</td>\n",
       "      <td>6066</td>\n",
       "    </tr>\n",
       "    <tr>\n",
       "      <th>2</th>\n",
       "      <td>3</td>\n",
       "      <td>5949</td>\n",
       "    </tr>\n",
       "    <tr>\n",
       "      <th>3</th>\n",
       "      <td>4</td>\n",
       "      <td>5953</td>\n",
       "    </tr>\n",
       "    <tr>\n",
       "      <th>4</th>\n",
       "      <td>5</td>\n",
       "      <td>5767</td>\n",
       "    </tr>\n",
       "  </tbody>\n",
       "</table>\n",
       "</div>"
      ],
      "text/plain": [
       "   session_start_week  session_start_date_time\n",
       "0                   1                     6845\n",
       "1                   2                     6066\n",
       "2                   3                     5949\n",
       "3                   4                     5953\n",
       "4                   5                     5767"
      ]
     },
     "execution_count": 16,
     "metadata": {},
     "output_type": "execute_result"
    }
   ],
   "source": [
    "# notice we get the week number here\n",
    "time_data[\"session_start_week\"] = time_data[\"session_start_date_time\"].dt.isocalendar().week\n",
    "time_data.groupby(\"session_start_week\")[\"session_start_date_time\"].count().reset_index().head()"
   ]
  },
  {
   "cell_type": "markdown",
   "id": "returning-worry",
   "metadata": {},
   "source": [
    "## Formatting datetimes as a string\n",
    "\n",
    "Finally, sometimes it is useful, particularly when plotting aggregated time data to be able to format the datetimes nicely (e.g. remove the seconds and convert the month number to the shorthand month). To do this we can use the `.dt.strftime()` function to format the time into our desired format.\n",
    "\n",
    "A list of formatting options can be found [here](https://www.programiz.com/python-programming/datetime/strftime)"
   ]
  },
  {
   "cell_type": "code",
   "execution_count": 17,
   "id": "alike-bride",
   "metadata": {},
   "outputs": [
    {
     "data": {
      "text/plain": [
       "0    01-Jan-19 04:44\n",
       "1    01-Jan-19 05:12\n",
       "2    01-Jan-19 05:23\n",
       "3    01-Jan-19 05:35\n",
       "4    01-Jan-19 05:23\n",
       "Name: session_start_date_time, dtype: object"
      ]
     },
     "execution_count": 17,
     "metadata": {},
     "output_type": "execute_result"
    }
   ],
   "source": [
    "time_data[\"session_start_date_time\"].dt.strftime('%d-%b-%y %H:%M').head()"
   ]
  },
  {
   "cell_type": "markdown",
   "id": "unknown-wound",
   "metadata": {},
   "source": [
    "# A worked example\n",
    "\n",
    "Consider a situation where you work for the Montgomery County, PA police department and your new boss provides you with a csv extract of all 911 calls from 2015 to 2020 as they are keen to understand to get up to speed on the general trends over the last few years.\n",
    "\n",
    "In particular they want to get and understanding of the busiest week in the year, and within that week what was the busiest 30 minute interval. They would also like a plot of 991 volume for all the 30 minute intervals that week to better understand just how busy it was as the busiest time.\n",
    "\n",
    "Finally, they were requested to send on a summary of their data (timestamp, desc, title, and twp) to the FBI for upload to the federal database, however the FBI requested that the timestamps be sent on as UTC times in ISO format in order to comply with their database rules. This will mean that you will have to convert the times from local (PA) time to UTC before doing the ISO formatting.\n",
    "\n",
    "We can break down this request into the following 5 steps:\n",
    "\n",
    "- Localise the timestamps to the local (Pennsylvania) time (US/Eastern)\n",
    "- Find out which week had the most 911 calls\n",
    "- Identify which 30 minute window over that week had the most 911 calls?\n",
    "- What was driving the volume at the time interval with the highest volume?\n",
    "- Plot all the 30 minute intervals for that week\n",
    "- Export the UTC time data to a csv in ISO format (timestamp, desc, title, twp)"
   ]
  },
  {
   "cell_type": "markdown",
   "id": "expressed-annual",
   "metadata": {},
   "source": [
    "## Import the data\n",
    "\n",
    "To begin, we will import the data, convert the `timestamp` column to a datetime object, and check for any `NULL`/`None` values. Thankfully for us there are actually no nulls in the dataset so no action is required there."
   ]
  },
  {
   "cell_type": "code",
   "execution_count": 2,
   "id": "corrected-dispatch",
   "metadata": {},
   "outputs": [
    {
     "name": "stdout",
     "output_type": "stream",
     "text": [
      "0 nulls in dataset\n"
     ]
    },
    {
     "data": {
      "text/html": [
       "<div>\n",
       "<style scoped>\n",
       "    .dataframe tbody tr th:only-of-type {\n",
       "        vertical-align: middle;\n",
       "    }\n",
       "\n",
       "    .dataframe tbody tr th {\n",
       "        vertical-align: top;\n",
       "    }\n",
       "\n",
       "    .dataframe thead th {\n",
       "        text-align: right;\n",
       "    }\n",
       "</style>\n",
       "<table border=\"1\" class=\"dataframe\">\n",
       "  <thead>\n",
       "    <tr style=\"text-align: right;\">\n",
       "      <th></th>\n",
       "      <th>desc</th>\n",
       "      <th>title</th>\n",
       "      <th>twp</th>\n",
       "      <th>timestamp</th>\n",
       "    </tr>\n",
       "  </thead>\n",
       "  <tbody>\n",
       "    <tr>\n",
       "      <th>0</th>\n",
       "      <td>REINDEER CT &amp; DEAD END;  NEW HANOVER; Station ...</td>\n",
       "      <td>EMS: BACK PAINS/INJURY</td>\n",
       "      <td>NEW HANOVER</td>\n",
       "      <td>2015-12-10 17:10:52</td>\n",
       "    </tr>\n",
       "    <tr>\n",
       "      <th>1</th>\n",
       "      <td>BRIAR PATH &amp; WHITEMARSH LN;  HATFIELD TOWNSHIP...</td>\n",
       "      <td>EMS: DIABETIC EMERGENCY</td>\n",
       "      <td>HATFIELD TOWNSHIP</td>\n",
       "      <td>2015-12-10 17:29:21</td>\n",
       "    </tr>\n",
       "    <tr>\n",
       "      <th>2</th>\n",
       "      <td>HAWS AVE; NORRISTOWN; 2015-12-10 @ 14:39:21-St...</td>\n",
       "      <td>Fire: GAS-ODOR/LEAK</td>\n",
       "      <td>NORRISTOWN</td>\n",
       "      <td>2015-12-10 14:39:21</td>\n",
       "    </tr>\n",
       "    <tr>\n",
       "      <th>3</th>\n",
       "      <td>AIRY ST &amp; SWEDE ST;  NORRISTOWN; Station 308A;...</td>\n",
       "      <td>EMS: CARDIAC EMERGENCY</td>\n",
       "      <td>NORRISTOWN</td>\n",
       "      <td>2015-12-10 16:47:36</td>\n",
       "    </tr>\n",
       "    <tr>\n",
       "      <th>4</th>\n",
       "      <td>CHERRYWOOD CT &amp; DEAD END;  LOWER POTTSGROVE; S...</td>\n",
       "      <td>EMS: DIZZINESS</td>\n",
       "      <td>LOWER POTTSGROVE</td>\n",
       "      <td>2015-12-10 16:56:52</td>\n",
       "    </tr>\n",
       "  </tbody>\n",
       "</table>\n",
       "</div>"
      ],
      "text/plain": [
       "                                                desc                    title  \\\n",
       "0  REINDEER CT & DEAD END;  NEW HANOVER; Station ...   EMS: BACK PAINS/INJURY   \n",
       "1  BRIAR PATH & WHITEMARSH LN;  HATFIELD TOWNSHIP...  EMS: DIABETIC EMERGENCY   \n",
       "2  HAWS AVE; NORRISTOWN; 2015-12-10 @ 14:39:21-St...      Fire: GAS-ODOR/LEAK   \n",
       "3  AIRY ST & SWEDE ST;  NORRISTOWN; Station 308A;...   EMS: CARDIAC EMERGENCY   \n",
       "4  CHERRYWOOD CT & DEAD END;  LOWER POTTSGROVE; S...           EMS: DIZZINESS   \n",
       "\n",
       "                 twp           timestamp  \n",
       "0        NEW HANOVER 2015-12-10 17:10:52  \n",
       "1  HATFIELD TOWNSHIP 2015-12-10 17:29:21  \n",
       "2         NORRISTOWN 2015-12-10 14:39:21  \n",
       "3         NORRISTOWN 2015-12-10 16:47:36  \n",
       "4   LOWER POTTSGROVE 2015-12-10 16:56:52  "
      ]
     },
     "execution_count": 2,
     "metadata": {},
     "output_type": "execute_result"
    }
   ],
   "source": [
    "example_data = pd.read_csv(\"911.csv\")\n",
    "example_data[\"timestamp\"] = pd.to_datetime(example_data[\"timeStamp\"])\n",
    "\n",
    "# i don't like the camel casing here so removing along with some other columns we won't need\n",
    "example_data = example_data.drop([\"timeStamp\", \"lat\", \"lng\", \"zip\", \"addr\", \"e\"], axis=1) \n",
    "print(f\"{len(example_data.loc[example_data['timestamp'].isna()])} nulls in dataset\")\n",
    "example_data.head()"
   ]
  },
  {
   "cell_type": "markdown",
   "id": "pacific-bailey",
   "metadata": {},
   "source": [
    "## Localise timestamps to the UTC then convert to PA local time \n",
    "\n",
    "From here, we can loalise the timestamps to US Eastern time as this is what the timestamps were recorded as in the original data. Note that we set `ambiguous=True` when making this localisation as the data doesn't include any information on daylight savings offset so we have to tell the function to ignore this as a result."
   ]
  },
  {
   "cell_type": "code",
   "execution_count": 3,
   "id": "heavy-favorite",
   "metadata": {},
   "outputs": [
    {
     "data": {
      "text/html": [
       "<div>\n",
       "<style scoped>\n",
       "    .dataframe tbody tr th:only-of-type {\n",
       "        vertical-align: middle;\n",
       "    }\n",
       "\n",
       "    .dataframe tbody tr th {\n",
       "        vertical-align: top;\n",
       "    }\n",
       "\n",
       "    .dataframe thead th {\n",
       "        text-align: right;\n",
       "    }\n",
       "</style>\n",
       "<table border=\"1\" class=\"dataframe\">\n",
       "  <thead>\n",
       "    <tr style=\"text-align: right;\">\n",
       "      <th></th>\n",
       "      <th>desc</th>\n",
       "      <th>title</th>\n",
       "      <th>twp</th>\n",
       "      <th>timestamp</th>\n",
       "      <th>timestamp_local</th>\n",
       "    </tr>\n",
       "  </thead>\n",
       "  <tbody>\n",
       "    <tr>\n",
       "      <th>0</th>\n",
       "      <td>REINDEER CT &amp; DEAD END;  NEW HANOVER; Station ...</td>\n",
       "      <td>EMS: BACK PAINS/INJURY</td>\n",
       "      <td>NEW HANOVER</td>\n",
       "      <td>2015-12-10 17:10:52</td>\n",
       "      <td>2015-12-10 17:10:52-05:00</td>\n",
       "    </tr>\n",
       "    <tr>\n",
       "      <th>1</th>\n",
       "      <td>BRIAR PATH &amp; WHITEMARSH LN;  HATFIELD TOWNSHIP...</td>\n",
       "      <td>EMS: DIABETIC EMERGENCY</td>\n",
       "      <td>HATFIELD TOWNSHIP</td>\n",
       "      <td>2015-12-10 17:29:21</td>\n",
       "      <td>2015-12-10 17:29:21-05:00</td>\n",
       "    </tr>\n",
       "    <tr>\n",
       "      <th>2</th>\n",
       "      <td>HAWS AVE; NORRISTOWN; 2015-12-10 @ 14:39:21-St...</td>\n",
       "      <td>Fire: GAS-ODOR/LEAK</td>\n",
       "      <td>NORRISTOWN</td>\n",
       "      <td>2015-12-10 14:39:21</td>\n",
       "      <td>2015-12-10 14:39:21-05:00</td>\n",
       "    </tr>\n",
       "    <tr>\n",
       "      <th>3</th>\n",
       "      <td>AIRY ST &amp; SWEDE ST;  NORRISTOWN; Station 308A;...</td>\n",
       "      <td>EMS: CARDIAC EMERGENCY</td>\n",
       "      <td>NORRISTOWN</td>\n",
       "      <td>2015-12-10 16:47:36</td>\n",
       "      <td>2015-12-10 16:47:36-05:00</td>\n",
       "    </tr>\n",
       "    <tr>\n",
       "      <th>4</th>\n",
       "      <td>CHERRYWOOD CT &amp; DEAD END;  LOWER POTTSGROVE; S...</td>\n",
       "      <td>EMS: DIZZINESS</td>\n",
       "      <td>LOWER POTTSGROVE</td>\n",
       "      <td>2015-12-10 16:56:52</td>\n",
       "      <td>2015-12-10 16:56:52-05:00</td>\n",
       "    </tr>\n",
       "  </tbody>\n",
       "</table>\n",
       "</div>"
      ],
      "text/plain": [
       "                                                desc                    title  \\\n",
       "0  REINDEER CT & DEAD END;  NEW HANOVER; Station ...   EMS: BACK PAINS/INJURY   \n",
       "1  BRIAR PATH & WHITEMARSH LN;  HATFIELD TOWNSHIP...  EMS: DIABETIC EMERGENCY   \n",
       "2  HAWS AVE; NORRISTOWN; 2015-12-10 @ 14:39:21-St...      Fire: GAS-ODOR/LEAK   \n",
       "3  AIRY ST & SWEDE ST;  NORRISTOWN; Station 308A;...   EMS: CARDIAC EMERGENCY   \n",
       "4  CHERRYWOOD CT & DEAD END;  LOWER POTTSGROVE; S...           EMS: DIZZINESS   \n",
       "\n",
       "                 twp           timestamp           timestamp_local  \n",
       "0        NEW HANOVER 2015-12-10 17:10:52 2015-12-10 17:10:52-05:00  \n",
       "1  HATFIELD TOWNSHIP 2015-12-10 17:29:21 2015-12-10 17:29:21-05:00  \n",
       "2         NORRISTOWN 2015-12-10 14:39:21 2015-12-10 14:39:21-05:00  \n",
       "3         NORRISTOWN 2015-12-10 16:47:36 2015-12-10 16:47:36-05:00  \n",
       "4   LOWER POTTSGROVE 2015-12-10 16:56:52 2015-12-10 16:56:52-05:00  "
      ]
     },
     "execution_count": 3,
     "metadata": {},
     "output_type": "execute_result"
    }
   ],
   "source": [
    "example_data[\"timestamp_local\"] = example_data[\"timestamp\"].dt.tz_localize(\"US/Eastern\", ambiguous=True)\n",
    "example_data.head()"
   ]
  },
  {
   "cell_type": "markdown",
   "id": "german-eleven",
   "metadata": {},
   "source": [
    "## Which week has the most 911 calls? \n",
    "\n",
    "Next we get the week (and year) for each entry in our dataset and aggregate the data up to week and year level to identify the week with the highest volume of 911 calls.\n",
    "\n",
    "From here we will get the week commencing value for the highest volume week by getting the miniumum date within that week.\n",
    "\n",
    "In this dataset, the week with the highest volume of 911 calls was w/c 2018-02-26 with 5,075 calls."
   ]
  },
  {
   "cell_type": "code",
   "execution_count": 4,
   "id": "excessive-ottawa",
   "metadata": {},
   "outputs": [
    {
     "name": "stdout",
     "output_type": "stream",
     "text": [
      "     timestamp_local_week  timestamp_local_year  title\n",
      "42                      9                  2018   5075\n",
      "213                    46                  2018   4116\n",
      "2                       1                  2018   3964\n",
      "114                    23                  2020   3801\n",
      "10                      3                  2016   3539\n",
      "\n",
      "\n",
      "The week with the highest volume was w/c 2018-02-26 with 5075 calls\n"
     ]
    }
   ],
   "source": [
    "example_data[\"timestamp_local_date\"] = example_data[\"timestamp_local\"].dt.date\n",
    "example_data[\"timestamp_local_week\"] = example_data[\"timestamp_local\"].dt.isocalendar().week\n",
    "example_data[\"timestamp_local_year\"] = example_data[\"timestamp_local\"].dt.year\n",
    "weekly_counts = (\n",
    "    example_data.groupby([\"timestamp_local_week\", \"timestamp_local_year\"])[\"title\"]\n",
    "    .count()\n",
    "    .reset_index()\n",
    "    .sort_values(by=\"title\", ascending=False)\n",
    ")\n",
    "\n",
    "print(weekly_counts.head())\n",
    "\n",
    "# now lets convert that week number to an actual date\n",
    "highest_week_num = weekly_counts[\"timestamp_local_week\"].iloc[0]\n",
    "highest_week_year = weekly_counts[\"timestamp_local_year\"].iloc[0]\n",
    "highest_week_volume = weekly_counts[\"title\"].iloc[0]\n",
    "week_commencing = example_data.loc[\n",
    "    (example_data[\"timestamp_local_week\"] == highest_week_num) &\n",
    "    (example_data[\"timestamp_local_year\"] == highest_week_year),\n",
    "    \"timestamp_local_date\"\n",
    "].min()\n",
    "\n",
    "print(f\"\\n\\nThe week with the highest volume was w/c {week_commencing} with {highest_week_volume} calls\")"
   ]
  },
  {
   "cell_type": "markdown",
   "id": "played-permit",
   "metadata": {},
   "source": [
    "## Which 30 minute window over that week had the most 911 calls?\n",
    "\n",
    "From here, we filter down our dataset to the week with the highest volume of 911 calls and bucket this subset of data into 30 minute intervals. Using these intervals we can aggregate the data up to 30 minute level and identify the window with the highest volume of 911 calls.\n",
    "\n",
    "Notice here that we use the `ceil` function to round each timestamp up to the nearest 30 minute interval and from here we subtract a `timedelta` of 30 minutes to get the start time for the interval with the highest volume."
   ]
  },
  {
   "cell_type": "code",
   "execution_count": 5,
   "id": "adaptive-program",
   "metadata": {},
   "outputs": [
    {
     "name": "stdout",
     "output_type": "stream",
     "text": [
      "          time_interval_end  title\n",
      "0 2018-03-02 16:30:00-05:00    156\n",
      "1 2018-03-02 16:00:00-05:00    141\n",
      "2 2018-03-02 17:30:00-05:00    129\n",
      "3 2018-03-02 17:00:00-05:00    128\n",
      "4 2018-03-02 15:30:00-05:00    126\n",
      "\n",
      "\n",
      "The week with the highest volume was between 02-Mar-18 16:00 and 02-Mar-18 16:30 with 156 calls\n"
     ]
    }
   ],
   "source": [
    "# filter down to the highest week\n",
    "week_data = example_data.loc[\n",
    "    (example_data[\"timestamp_local_week\"] == highest_week_num) &\n",
    "    (example_data[\"timestamp_local_year\"] == highest_week_year)    \n",
    "].copy()\n",
    "\n",
    "# round time up to next 30 minute interval\n",
    "week_data[\"time_interval_end\"] = week_data[\"timestamp_local\"].dt.ceil(\"30min\")\n",
    "week_data_aggregated = (\n",
    "    week_data.groupby(\"time_interval_end\")[\"title\"].count().sort_values(ascending=False).reset_index()\n",
    ")\n",
    "\n",
    "print(week_data_aggregated.head())\n",
    "\n",
    "# get the time range for the highest interval format nicely for a print\n",
    "week_data_aggregated[\"time_interval_start\"] = week_data_aggregated[\"time_interval_end\"] - pd.to_timedelta(30,'m')\n",
    "highest_volume_start = week_data_aggregated[\"time_interval_start\"].dt.strftime('%d-%b-%y %H:%M').iloc[0]\n",
    "highest_volume_end = week_data_aggregated[\"time_interval_end\"].dt.strftime('%d-%b-%y %H:%M').iloc[0]\n",
    "highest_volume = week_data_aggregated[\"title\"].iloc[0]\n",
    "\n",
    "print(\n",
    "    f\"\\n\\nThe week with the highest volume was between {highest_volume_start} and {highest_volume_end}\"\\\n",
    "    f\" with {highest_volume} calls\"\n",
    ")"
   ]
  },
  {
   "cell_type": "markdown",
   "id": "passive-cartridge",
   "metadata": {},
   "source": [
    "## What was driving the volume at the time interval with the highest volume?\n",
    "\n",
    "To figure out what was driving the volume at this time we can simply filter our dataset to that time interval and perform a `groupby` and `sum` on the title of each 911 call.\n",
    "\n",
    "Looking at the output below it looks like there was some sort of traffic accident or fire which caused a road obstruction (maybe on a busy road) which drove contacts during that 30 minute interval."
   ]
  },
  {
   "cell_type": "code",
   "execution_count": 7,
   "id": "pressed-queensland",
   "metadata": {},
   "outputs": [
    {
     "data": {
      "text/plain": [
       "title\n",
       "Traffic: ROAD OBSTRUCTION -             46\n",
       "Traffic: VEHICLE ACCIDENT -             44\n",
       "Traffic: DISABLED VEHICLE -             17\n",
       "Fire: ELECTRICAL FIRE OUTSIDE           14\n",
       "Fire: FIRE INVESTIGATION                 6\n",
       "Fire: FIRE ALARM                         5\n",
       "EMS: VEHICLE ACCIDENT                    5\n",
       "Fire: VEHICLE ACCIDENT                   4\n",
       "Fire: BUILDING FIRE                      3\n",
       "Traffic: HAZARDOUS ROAD CONDITIONS -     2\n",
       "Name: timestamp, dtype: int64"
      ]
     },
     "execution_count": 7,
     "metadata": {},
     "output_type": "execute_result"
    }
   ],
   "source": [
    "busy_time = week_data.loc[week_data[\"time_interval_end\"] == highest_volume_end]\n",
    "busy_time.groupby(\"title\")[\"timestamp\"].count().sort_values(ascending=False).head(10)"
   ]
  },
  {
   "cell_type": "markdown",
   "id": "resident-eugene",
   "metadata": {},
   "source": [
    "## Plot all 30 minute intervals within that week \n",
    "\n",
    "Before we can plot all 30 minute intervals for the week, we must first create a dataframe containing all possible 30 minute intervals. We need to do this to account for any 30 minute intervals in our dataset where there were no 911 calls received.\n",
    "\n",
    "Once this is done, we can just left join our dataset of aggregated 30 minute data onto the dataframe of time intervals using the `time_interval_end` column before filling any missing values with 0 (this account for any missing intervals).\n",
    "\n",
    "From here we can just use pandas built in `plot` function to plot the `time_interval` column against the `title` in our aggregated dataset."
   ]
  },
  {
   "cell_type": "code",
   "execution_count": 24,
   "id": "thorough-bracket",
   "metadata": {},
   "outputs": [
    {
     "data": {
      "image/png": "[encoded data removed]",
      "text/plain": [
       "<Figure size 640x480 with 1 Axes>"
      ]
     },
     "execution_count": 24,
     "metadata": {},
     "output_type": "execute_result"
    }
   ],
   "source": [
    "# create a set of all possible timestamps\n",
    "intervals = pd.DataFrame(\n",
    "    pd.date_range(\n",
    "        start=week_data_aggregated[\"time_interval_start\"].min(),\n",
    "        end=week_data_aggregated[\"time_interval_end\"].max(),\n",
    "        freq=\"30min\"\n",
    "    ),\n",
    "    columns=[\"time_interval_end\"]\n",
    ")\n",
    "\n",
    "# join on our data based on time_interval_end (filna handles any missing time intervals)\n",
    "intervals = intervals.merge(\n",
    "    week_data_aggregated, on=[\"time_interval_end\"], how=\"left\"\n",
    ")[[\"time_interval_end\", \"title\"]].fillna(0)\n",
    "\n",
    "ax = intervals.plot.bar(x=\"time_interval_end\", y=\"title\")\n",
    "ax.set_xticklabels([])\n",
    "ax.set_ylabel(\"Volume of calls\")\n",
    "ax.get_legend().remove()\n",
    "ax.get_figure()"
   ]
  },
  {
   "cell_type": "markdown",
   "id": "detected-investigator",
   "metadata": {},
   "source": [
    "## Output to CSV \n",
    "\n",
    "Finally, we can create the required csv extract by first using the `tz_convert` function to convert our timestamps from US Eastern to UTC before using the `apply` method to convert these UTC timestamps to ISO format.\n",
    "\n",
    "With the time conversion and formatting complete, we can simply use pandas `to_csv` method to save our selected columns to csv format."
   ]
  },
  {
   "cell_type": "code",
   "execution_count": 8,
   "id": "competent-astronomy",
   "metadata": {},
   "outputs": [
    {
     "data": {
      "text/html": [
       "<div>\n",
       "<style scoped>\n",
       "    .dataframe tbody tr th:only-of-type {\n",
       "        vertical-align: middle;\n",
       "    }\n",
       "\n",
       "    .dataframe tbody tr th {\n",
       "        vertical-align: top;\n",
       "    }\n",
       "\n",
       "    .dataframe thead th {\n",
       "        text-align: right;\n",
       "    }\n",
       "</style>\n",
       "<table border=\"1\" class=\"dataframe\">\n",
       "  <thead>\n",
       "    <tr style=\"text-align: right;\">\n",
       "      <th></th>\n",
       "      <th>timestamp_iso</th>\n",
       "      <th>title</th>\n",
       "      <th>desc</th>\n",
       "      <th>twp</th>\n",
       "    </tr>\n",
       "  </thead>\n",
       "  <tbody>\n",
       "    <tr>\n",
       "      <th>0</th>\n",
       "      <td>2015-12-10T22:10:52+00:00</td>\n",
       "      <td>EMS: BACK PAINS/INJURY</td>\n",
       "      <td>REINDEER CT &amp; DEAD END;  NEW HANOVER; Station ...</td>\n",
       "      <td>NEW HANOVER</td>\n",
       "    </tr>\n",
       "    <tr>\n",
       "      <th>1</th>\n",
       "      <td>2015-12-10T22:29:21+00:00</td>\n",
       "      <td>EMS: DIABETIC EMERGENCY</td>\n",
       "      <td>BRIAR PATH &amp; WHITEMARSH LN;  HATFIELD TOWNSHIP...</td>\n",
       "      <td>HATFIELD TOWNSHIP</td>\n",
       "    </tr>\n",
       "    <tr>\n",
       "      <th>2</th>\n",
       "      <td>2015-12-10T19:39:21+00:00</td>\n",
       "      <td>Fire: GAS-ODOR/LEAK</td>\n",
       "      <td>HAWS AVE; NORRISTOWN; 2015-12-10 @ 14:39:21-St...</td>\n",
       "      <td>NORRISTOWN</td>\n",
       "    </tr>\n",
       "    <tr>\n",
       "      <th>3</th>\n",
       "      <td>2015-12-10T21:47:36+00:00</td>\n",
       "      <td>EMS: CARDIAC EMERGENCY</td>\n",
       "      <td>AIRY ST &amp; SWEDE ST;  NORRISTOWN; Station 308A;...</td>\n",
       "      <td>NORRISTOWN</td>\n",
       "    </tr>\n",
       "    <tr>\n",
       "      <th>4</th>\n",
       "      <td>2015-12-10T21:56:52+00:00</td>\n",
       "      <td>EMS: DIZZINESS</td>\n",
       "      <td>CHERRYWOOD CT &amp; DEAD END;  LOWER POTTSGROVE; S...</td>\n",
       "      <td>LOWER POTTSGROVE</td>\n",
       "    </tr>\n",
       "  </tbody>\n",
       "</table>\n",
       "</div>"
      ],
      "text/plain": [
       "               timestamp_iso                    title  \\\n",
       "0  2015-12-10T22:10:52+00:00   EMS: BACK PAINS/INJURY   \n",
       "1  2015-12-10T22:29:21+00:00  EMS: DIABETIC EMERGENCY   \n",
       "2  2015-12-10T19:39:21+00:00      Fire: GAS-ODOR/LEAK   \n",
       "3  2015-12-10T21:47:36+00:00   EMS: CARDIAC EMERGENCY   \n",
       "4  2015-12-10T21:56:52+00:00           EMS: DIZZINESS   \n",
       "\n",
       "                                                desc                twp  \n",
       "0  REINDEER CT & DEAD END;  NEW HANOVER; Station ...        NEW HANOVER  \n",
       "1  BRIAR PATH & WHITEMARSH LN;  HATFIELD TOWNSHIP...  HATFIELD TOWNSHIP  \n",
       "2  HAWS AVE; NORRISTOWN; 2015-12-10 @ 14:39:21-St...         NORRISTOWN  \n",
       "3  AIRY ST & SWEDE ST;  NORRISTOWN; Station 308A;...         NORRISTOWN  \n",
       "4  CHERRYWOOD CT & DEAD END;  LOWER POTTSGROVE; S...   LOWER POTTSGROVE  "
      ]
     },
     "execution_count": 8,
     "metadata": {},
     "output_type": "execute_result"
    }
   ],
   "source": [
    "example_data[\"timestamp_utc\"] = example_data[\"timestamp_local\"].dt.tz_convert(pytz.utc)\n",
    "example_data[\"timestamp_iso\"] = example_data[\"timestamp_utc\"].apply(lambda x: x.isoformat())\n",
    "\n",
    "output = example_data[[\"timestamp_iso\", \"title\", \"desc\", \"twp\"]]\n",
    "output.to_csv(\"sample_output.csv\", index=False)\n",
    "output.head()"
   ]
  }
 ],
 "metadata": {
  "kernelspec": {
   "display_name": "Python 3",
   "language": "python",
   "name": "python3"
  },
  "language_info": {
   "codemirror_mode": {
    "name": "ipython",
    "version": 3
   },
   "file_extension": ".py",
   "mimetype": "text/x-python",
   "name": "python",
   "nbconvert_exporter": "python",
   "pygments_lexer": "ipython3",
   "version": "3.8.10"
  },
  "toc": {
   "base_numbering": 1,
   "nav_menu": {},
   "number_sections": true,
   "sideBar": true,
   "skip_h1_title": false,
   "title_cell": "Table of Contents",
   "title_sidebar": "Contents",
   "toc_cell": false,
   "toc_position": {},
   "toc_section_display": true,
   "toc_window_display": false
  }
 },
 "nbformat": 4,
 "nbformat_minor": 5
}
